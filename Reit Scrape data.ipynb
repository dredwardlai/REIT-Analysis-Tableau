{
 "cells": [
  {
   "cell_type": "code",
   "execution_count": 1,
   "id": "dfcceb25",
   "metadata": {},
   "outputs": [],
   "source": [
    "import matplotlib.pyplot as plt\n",
    "import matplotlib as mpl\n",
    "import seaborn as sns\n",
    "import pandas as pdzzzz\n",
    "import numpy as np\n",
    "from bs4 import BeautifulSoup\n",
    "import requests\n",
    "from itertools import cycle, islice"
   ]
  },
  {
   "cell_type": "code",
   "execution_count": null,
   "id": "39c5b6bf",
   "metadata": {},
   "outputs": [],
   "source": [
    "URL = \"https://hk.finance.yahoo.com/quote/0778.HK/financials?p=0778.HK\"\n",
    "dat = {'q':'goog'}\n",
    "html = requests.get(URL, params=dat, headers={'User-Agent': 'Mozilla/5.0'})\n",
    "html"
   ]
  },
  {
   "cell_type": "code",
   "execution_count": null,
   "id": "6a2cd46b",
   "metadata": {},
   "outputs": [],
   "source": [
    "soup = BeautifulSoup(html.text, \"html.parser\")\n",
    "soup"
   ]
  },
  {
   "cell_type": "code",
   "execution_count": null,
   "id": "b2c0a050",
   "metadata": {},
   "outputs": [],
   "source": [
    "mostwant = {'class': 'mrt-node-Col1-1-Financials '}\n",
    "divs = soup.findAll(attrs = mostwant)\n",
    "for i in divs:\n",
    "    item = i.text.strip()\n",
    "    price = re.search('\\d+\\.\\d+', product.findAll('p')[1].text).group(0)\n",
    "    print(f\"{item} - {price}\")\n",
    "    \n",
    "    "
   ]
  },
  {
   "cell_type": "code",
   "execution_count": 2,
   "id": "94f4ea70",
   "metadata": {},
   "outputs": [
    {
     "name": "stderr",
     "output_type": "stream",
     "text": [
      "/var/folders/v8/82vxdtvs3bv61w9nv9b3z0sc0000gn/T/ipykernel_77336/2586758761.py:4: DeprecationWarning: executable_path has been deprecated, please pass in a Service object\n",
      "  driver = webdriver.Chrome('/Users/dr.edward/Downloads/chromedriver')\n"
     ]
    },
    {
     "name": "stdout",
     "output_type": "stream",
     "text": [
      "總收益\n",
      "1,769,498 1,806,397 1,843,824 1,959,697 1,940,106\n",
      "收益成本\n",
      "595,597 595,111 602,330 621,002 603,276\n",
      "毛利\n",
      "1,173,901 1,211,286 1,241,494 1,338,695 1,336,830\n",
      "營運成本\n",
      "銷售、總務及行政\n",
      "- - 177,207 188,008 180,660\n",
      "營運總成本\n",
      "406 2,402 2,066 9,118 4,267\n",
      "經營收入或虧損\n",
      "1,173,495 1,208,884 1,239,428 1,329,577 1,332,563\n",
      "利息支出\n",
      "110,531 107,214 192,415 257,880 227,884\n",
      "其他收益總數/支出淨額\n",
      "- - - 642,499 5,128,914\n",
      "稅前收益\n",
      "1,698,299 1,521,144 -2,987,020 1,695,555 6,211,991\n",
      "所得稅費用\n",
      "196,250 203,630 205,938 218,751 221,224\n",
      "連續營業收益\n",
      "1,502,049 1,317,514 -3,192,958 1,476,804 5,990,767\n",
      "淨收益\n",
      "1,502,049 1,317,514 -3,192,958 1,476,804 5,990,767\n",
      "可分配給普通股股東的淨收入\n",
      "1,502,049 1,317,514 -3,192,958 1,476,804 5,990,767\n",
      "基本每股盈利\n",
      "- 0.67 -1.64 0.76 3.12\n",
      "攤薄每股盈利\n",
      "- 0.67 -1.64 0.76 3.12\n",
      "基本平均股份\n",
      "- 1,967,001 1,950,980 1,934,837 1,921,476\n",
      "攤薄後平均股份\n",
      "- 1,967,001 1,950,980 1,934,837 1,921,476\n",
      "除利息、稅項、折舊及攤銷前盈利\n",
      "- 1,628,358 -2,794,605 1,953,435 6,439,875\n"
     ]
    }
   ],
   "source": [
    "from selenium import webdriver\n",
    "\n",
    "url = \"https://hk.finance.yahoo.com/quote/0778.HK/financials?p=0778.HK\"\n",
    "driver = webdriver.Chrome('/Users/dr.edward/Downloads/chromedriver')\n",
    "driver.get(url)\n",
    "item = driver.find_element(\"xpath\",\"//*[@class='D(tbrg)']\")\n",
    "print(item.text.strip())\n",
    "\n"
   ]
  }
 ],
 "metadata": {
  "kernelspec": {
   "display_name": "Python 3 (ipykernel)",
   "language": "python",
   "name": "python3"
  },
  "language_info": {
   "codemirror_mode": {
    "name": "ipython",
    "version": 3
   },
   "file_extension": ".py",
   "mimetype": "text/x-python",
   "name": "python",
   "nbconvert_exporter": "python",
   "pygments_lexer": "ipython3",
   "version": "3.9.12"
  }
 },
 "nbformat": 4,
 "nbformat_minor": 5
}
